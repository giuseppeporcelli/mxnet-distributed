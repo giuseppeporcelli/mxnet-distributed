{
 "cells": [
  {
   "cell_type": "markdown",
   "metadata": {},
   "source": [
    "<h1>Distributed Image Classification</h1>"
   ]
  },
  {
   "cell_type": "markdown",
   "metadata": {},
   "source": [
    "The purpose of this notebook is to show how the example image classification task of Apache MXNet can be run on Amazon SageMaker.\n",
    "\n",
    "Let's start by setting some variables and getting the execution role."
   ]
  },
  {
   "cell_type": "code",
   "execution_count": 1,
   "metadata": {},
   "outputs": [
    {
     "name": "stdout",
     "output_type": "stream",
     "text": [
      "arn:aws:iam::825935527263:role/service-role/AmazonSageMaker-ExecutionRole-20181106T101932\n"
     ]
    }
   ],
   "source": [
    "from sagemaker import get_execution_role\n",
    "\n",
    "role = get_execution_role()\n",
    "bucket_name = 'immersionday-sagemaker-test'\n",
    "bucket_key_prefix = 'distributedimgclass'\n",
    "\n",
    "print(role)"
   ]
  },
  {
   "cell_type": "markdown",
   "metadata": {},
   "source": [
    "<h2>Training the model with MXNet</h2>\n",
    "\n",
    "We are now ready to run the training using the Amazon SageMaker MXNet built-in container. First let's have a look at the script defining our neural network."
   ]
  },
  {
   "cell_type": "code",
   "execution_count": null,
   "metadata": {},
   "outputs": [],
   "source": [
    "!cat 'sources/image_classification.py'"
   ]
  },
  {
   "cell_type": "markdown",
   "metadata": {},
   "source": [
    "We are now ready to run the training using the MXNet estimator object of the SageMaker Python SDK."
   ]
  },
  {
   "cell_type": "code",
   "execution_count": 8,
   "metadata": {},
   "outputs": [
    {
     "name": "stdout",
     "output_type": "stream",
     "text": [
      "2019-06-03 16:35:23 Starting - Starting the training job...\n",
      "2019-06-03 16:35:24 Starting - Launching requested ML instances......\n",
      "2019-06-03 16:36:27 Starting - Preparing the instances for training......\n",
      "2019-06-03 16:37:35 Downloading - Downloading input data\n",
      "2019-06-03 16:37:35 Training - Downloading the training image...\n",
      "2019-06-03 16:38:11 Training - Training image download completed. Training in progress.\n",
      "\u001b[31m2019-06-03 16:38:12,648 sagemaker-containers INFO     Imported framework sagemaker_mxnet_container.training\u001b[0m\n",
      "\u001b[31m2019-06-03 16:38:12,693 sagemaker_mxnet_container.training INFO     MXNet training environment: {'SM_HP_DATASET': 'cifar10', 'SM_USER_ARGS': '[\"--batch-size\",\"32\",\"--dataset\",\"cifar10\",\"--epochs\",\"1\",\"--kvstore\",\"device\",\"--lr\",\"0.1\",\"--model\",\"vgg11\"]', 'SM_FRAMEWORK_PARAMS': '{\"sagemaker_parameter_server_enabled\":true}', 'SM_HP_EPOCHS': '1', 'SM_MODULE_DIR': 's3://immersionday-sagemaker-test/distributedimgclass/code/imgclass-mxnet-2019-06-03-16-35-23-190/source/sourcedir.tar.gz', 'SM_LOG_LEVEL': '20', 'SM_MODEL_DIR': '/opt/ml/model', 'SM_CHANNELS': '[]', 'SM_FRAMEWORK_MODULE': 'sagemaker_mxnet_container.training:main', 'SM_HP_BATCH-SIZE': '32', 'SM_INPUT_DIR': '/opt/ml/input', 'SM_INPUT_CONFIG_DIR': '/opt/ml/input/config', 'SM_HPS': '{\"batch-size\":32,\"dataset\":\"cifar10\",\"epochs\":1,\"kvstore\":\"device\",\"lr\":0.1,\"model\":\"vgg11\"}', 'SM_OUTPUT_DATA_DIR': '/opt/ml/output/data', 'SM_HP_KVSTORE': 'device', 'SM_RESOURCE_CONFIG': '{\"current_host\":\"algo-1\",\"hosts\":[\"algo-1\"],\"network_interface_name\":\"ethwe\"}', 'SM_NUM_CPUS': '32', 'SM_OUTPUT_DIR': '/opt/ml/output', 'SM_TRAINING_ENV': '{\"additional_framework_parameters\":{\"sagemaker_parameter_server_enabled\":true},\"channel_input_dirs\":{},\"current_host\":\"algo-1\",\"framework_module\":\"sagemaker_mxnet_container.training:main\",\"hosts\":[\"algo-1\"],\"hyperparameters\":{\"batch-size\":32,\"dataset\":\"cifar10\",\"epochs\":1,\"kvstore\":\"device\",\"lr\":0.1,\"model\":\"vgg11\"},\"input_config_dir\":\"/opt/ml/input/config\",\"input_data_config\":{},\"input_dir\":\"/opt/ml/input\",\"is_master\":true,\"job_name\":\"imgclass-mxnet-2019-06-03-16-35-23-190\",\"log_level\":20,\"master_hostname\":\"algo-1\",\"model_dir\":\"/opt/ml/model\",\"module_dir\":\"s3://immersionday-sagemaker-test/distributedimgclass/code/imgclass-mxnet-2019-06-03-16-35-23-190/source/sourcedir.tar.gz\",\"module_name\":\"image_classification\",\"network_interface_name\":\"ethwe\",\"num_cpus\":32,\"num_gpus\":4,\"output_data_dir\":\"/opt/ml/output/data\",\"output_dir\":\"/opt/ml/output\",\"output_intermediate_dir\":\"/opt/ml/output/intermediate\",\"resource_config\":{\"current_host\":\"algo-1\",\"hosts\":[\"algo-1\"],\"network_interface_name\":\"ethwe\"},\"user_entry_point\":\"image_classification.py\"}', 'SM_USER_ENTRY_POINT': 'image_classification.py', 'SM_MODULE_NAME': 'image_classification', 'SM_NETWORK_INTERFACE_NAME': 'ethwe', 'SM_HOSTS': '[\"algo-1\"]', 'SM_OUTPUT_INTERMEDIATE_DIR': '/opt/ml/output/intermediate', 'SM_HP_MODEL': 'vgg11', 'SM_NUM_GPUS': '4', 'SM_INPUT_DATA_CONFIG': '{}', 'SM_HP_LR': '0.1', 'SM_CURRENT_HOST': 'algo-1'}\u001b[0m\n",
      "\u001b[31m2019-06-03 16:38:13,296 sagemaker_mxnet_container.training INFO     Starting distributed training task\u001b[0m\n",
      "\u001b[31m2019-06-03 16:38:13,566 sagemaker-containers INFO     Module image_classification does not provide a setup.py. \u001b[0m\n",
      "\u001b[31mGenerating setup.py\u001b[0m\n",
      "\u001b[31m2019-06-03 16:38:13,567 sagemaker-containers INFO     Generating setup.cfg\u001b[0m\n",
      "\u001b[31m2019-06-03 16:38:13,567 sagemaker-containers INFO     Generating MANIFEST.in\u001b[0m\n",
      "\u001b[31m2019-06-03 16:38:13,567 sagemaker-containers INFO     Installing module with the following command:\u001b[0m\n",
      "\u001b[31m/usr/bin/python -m pip install -U . \u001b[0m\n",
      "\u001b[31mProcessing /opt/ml/code\u001b[0m\n",
      "\u001b[31mBuilding wheels for collected packages: image-classification\n",
      "  Running setup.py bdist_wheel for image-classification: started\n",
      "  Running setup.py bdist_wheel for image-classification: finished with status 'done'\n",
      "  Stored in directory: /tmp/pip-ephem-wheel-cache-o2t1rtuw/wheels/35/24/16/37574d11bf9bde50616c67372a334f94fa8356bc7164af8ca3\u001b[0m\n",
      "\u001b[31mSuccessfully built image-classification\u001b[0m\n",
      "\u001b[31mInstalling collected packages: image-classification\u001b[0m\n",
      "\u001b[31mSuccessfully installed image-classification-1.0.0\u001b[0m\n",
      "\u001b[31mYou are using pip version 18.1, however version 19.1.1 is available.\u001b[0m\n",
      "\u001b[31mYou should consider upgrading via the 'pip install --upgrade pip' command.\u001b[0m\n",
      "\u001b[31m2019-06-03 16:38:15,416 sagemaker-containers INFO     Invoking user script\n",
      "\u001b[0m\n",
      "\u001b[31mTraining Env:\n",
      "\u001b[0m\n",
      "\u001b[31m{\n",
      "    \"hyperparameters\": {\n",
      "        \"batch-size\": 32,\n",
      "        \"kvstore\": \"device\",\n",
      "        \"dataset\": \"cifar10\",\n",
      "        \"model\": \"vgg11\",\n",
      "        \"epochs\": 1,\n",
      "        \"lr\": 0.1\n",
      "    },\n",
      "    \"master_hostname\": \"algo-1\",\n",
      "    \"hosts\": [\n",
      "        \"algo-1\"\n",
      "    ],\n",
      "    \"current_host\": \"algo-1\",\n",
      "    \"model_dir\": \"/opt/ml/model\",\n",
      "    \"user_entry_point\": \"image_classification.py\",\n",
      "    \"network_interface_name\": \"ethwe\",\n",
      "    \"additional_framework_parameters\": {\n",
      "        \"sagemaker_parameter_server_enabled\": true\n",
      "    },\n",
      "    \"module_dir\": \"s3://immersionday-sagemaker-test/distributedimgclass/code/imgclass-mxnet-2019-06-03-16-35-23-190/source/sourcedir.tar.gz\",\n",
      "    \"num_cpus\": 32,\n",
      "    \"input_data_config\": {},\n",
      "    \"job_name\": \"imgclass-mxnet-2019-06-03-16-35-23-190\",\n",
      "    \"output_data_dir\": \"/opt/ml/output/data\",\n",
      "    \"channel_input_dirs\": {},\n",
      "    \"log_level\": 20,\n",
      "    \"input_config_dir\": \"/opt/ml/input/config\",\n",
      "    \"output_intermediate_dir\": \"/opt/ml/output/intermediate\",\n",
      "    \"resource_config\": {\n",
      "        \"network_interface_name\": \"ethwe\",\n",
      "        \"hosts\": [\n",
      "            \"algo-1\"\n",
      "        ],\n",
      "        \"current_host\": \"algo-1\"\n",
      "    },\n",
      "    \"num_gpus\": 4,\n",
      "    \"module_name\": \"image_classification\",\n",
      "    \"output_dir\": \"/opt/ml/output\",\n",
      "    \"is_master\": true,\n",
      "    \"input_dir\": \"/opt/ml/input\",\n",
      "    \"framework_module\": \"sagemaker_mxnet_container.training:main\"\u001b[0m\n",
      "\u001b[31m}\n",
      "\u001b[0m\n",
      "\u001b[31mEnvironment variables:\n",
      "\u001b[0m\n",
      "\u001b[31mSM_HP_DATASET=cifar10\u001b[0m\n",
      "\u001b[31mSM_USER_ARGS=[\"--batch-size\",\"32\",\"--dataset\",\"cifar10\",\"--epochs\",\"1\",\"--kvstore\",\"device\",\"--lr\",\"0.1\",\"--model\",\"vgg11\"]\u001b[0m\n",
      "\u001b[31mSM_FRAMEWORK_PARAMS={\"sagemaker_parameter_server_enabled\":true}\u001b[0m\n",
      "\u001b[31mSM_HP_EPOCHS=1\u001b[0m\n",
      "\u001b[31mSM_RESOURCE_CONFIG={\"current_host\":\"algo-1\",\"hosts\":[\"algo-1\"],\"network_interface_name\":\"ethwe\"}\u001b[0m\n",
      "\u001b[31mSM_MODULE_DIR=s3://immersionday-sagemaker-test/distributedimgclass/code/imgclass-mxnet-2019-06-03-16-35-23-190/source/sourcedir.tar.gz\u001b[0m\n",
      "\u001b[31mSM_LOG_LEVEL=20\u001b[0m\n",
      "\u001b[31mPYTHONPATH=/usr/local/bin:/usr/lib/python35.zip:/usr/lib/python3.5:/usr/lib/python3.5/plat-x86_64-linux-gnu:/usr/lib/python3.5/lib-dynload:/usr/local/lib/python3.5/dist-packages:/usr/lib/python3/dist-packages\u001b[0m\n",
      "\u001b[31mSM_CHANNELS=[]\u001b[0m\n",
      "\u001b[31mSM_FRAMEWORK_MODULE=sagemaker_mxnet_container.training:main\u001b[0m\n",
      "\u001b[31mSM_HP_BATCH-SIZE=32\u001b[0m\n",
      "\u001b[31mSM_MODEL_DIR=/opt/ml/model\u001b[0m\n",
      "\u001b[31mSM_INPUT_CONFIG_DIR=/opt/ml/input/config\u001b[0m\n",
      "\u001b[31mSM_HPS={\"batch-size\":32,\"dataset\":\"cifar10\",\"epochs\":1,\"kvstore\":\"device\",\"lr\":0.1,\"model\":\"vgg11\"}\u001b[0m\n",
      "\u001b[31mSM_OUTPUT_DATA_DIR=/opt/ml/output/data\u001b[0m\n",
      "\u001b[31mSM_HP_KVSTORE=device\u001b[0m\n",
      "\u001b[31mSM_INPUT_DIR=/opt/ml/input\u001b[0m\n",
      "\u001b[31mSM_NUM_CPUS=32\u001b[0m\n",
      "\u001b[31mSM_OUTPUT_DIR=/opt/ml/output\u001b[0m\n",
      "\u001b[31mSM_TRAINING_ENV={\"additional_framework_parameters\":{\"sagemaker_parameter_server_enabled\":true},\"channel_input_dirs\":{},\"current_host\":\"algo-1\",\"framework_module\":\"sagemaker_mxnet_container.training:main\",\"hosts\":[\"algo-1\"],\"hyperparameters\":{\"batch-size\":32,\"dataset\":\"cifar10\",\"epochs\":1,\"kvstore\":\"device\",\"lr\":0.1,\"model\":\"vgg11\"},\"input_config_dir\":\"/opt/ml/input/config\",\"input_data_config\":{},\"input_dir\":\"/opt/ml/input\",\"is_master\":true,\"job_name\":\"imgclass-mxnet-2019-06-03-16-35-23-190\",\"log_level\":20,\"master_hostname\":\"algo-1\",\"model_dir\":\"/opt/ml/model\",\"module_dir\":\"s3://immersionday-sagemaker-test/distributedimgclass/code/imgclass-mxnet-2019-06-03-16-35-23-190/source/sourcedir.tar.gz\",\"module_name\":\"image_classification\",\"network_interface_name\":\"ethwe\",\"num_cpus\":32,\"num_gpus\":4,\"output_data_dir\":\"/opt/ml/output/data\",\"output_dir\":\"/opt/ml/output\",\"output_intermediate_dir\":\"/opt/ml/output/intermediate\",\"resource_config\":{\"current_host\":\"algo-1\",\"hosts\":[\"algo-1\"],\"network_interface_name\":\"ethwe\"},\"user_entry_point\":\"image_classification.py\"}\u001b[0m\n",
      "\u001b[31mSM_USER_ENTRY_POINT=image_classification.py\u001b[0m\n",
      "\u001b[31mSM_MODULE_NAME=image_classification\u001b[0m\n",
      "\u001b[31mSM_NETWORK_INTERFACE_NAME=ethwe\u001b[0m\n",
      "\u001b[31mSM_CURRENT_HOST=algo-1\u001b[0m\n",
      "\u001b[31mSM_OUTPUT_INTERMEDIATE_DIR=/opt/ml/output/intermediate\u001b[0m\n",
      "\u001b[31mSM_HP_MODEL=vgg11\u001b[0m\n",
      "\u001b[31mSM_NUM_GPUS=4\u001b[0m\n",
      "\u001b[31mSM_INPUT_DATA_CONFIG={}\u001b[0m\n",
      "\u001b[31mSM_HP_LR=0.1\u001b[0m\n",
      "\u001b[31mSM_HOSTS=[\"algo-1\"]\n",
      "\u001b[0m\n",
      "\u001b[31mInvoking script with the following command:\n",
      "\u001b[0m\n",
      "\u001b[31m/usr/bin/python -m image_classification --batch-size 32 --dataset cifar10 --epochs 1 --kvstore device --lr 0.1 --model vgg11\n",
      "\n",
      "\u001b[0m\n",
      "\u001b[31mINFO:root:Starting new image-classification task:, Namespace(batch_norm=False, batch_size=32, builtin_profiler=0, data_dir='', dataset='cifar10', dtype='float32', epochs=1, gpus='4', kvstore='device', log_interval=50, lr=0.1, lr_factor=0.1, lr_steps='30,60,90', mode=None, model='vgg11', momentum=0.9, num_workers=4, prefix='', profile=False, resume='', save_frequency=10, seed=123, start_epoch=0, use_pretrained=False, use_thumbnail=False, wd=0.0001)\u001b[0m\n"
     ]
    },
    {
     "name": "stdout",
     "output_type": "stream",
     "text": [
      "\u001b[31mINFO:root:downloaded http://data.mxnet.io/mxnet/data/cifar10.zip into data/cifar10.zip successfully\u001b[0m\n",
      "\u001b[31m[16:38:32] src/io/iter_image_recordio_2.cc:170: ImageRecordIOParser2: data/cifar/train.rec, use 4 threads for decoding..\u001b[0m\n",
      "\u001b[31m[16:38:35] src/io/iter_image_recordio_2.cc:170: ImageRecordIOParser2: data/cifar/test.rec, use 4 threads for decoding..\u001b[0m\n",
      "\u001b[31m[16:38:46] src/operator/nn/./cudnn/./cudnn_algoreg-inl.h:109: Running performance tests to find the best convolution algorithm, this can take a while... (setting env variable MXNET_CUDNN_AUTOTUNE_DEFAULT to 0 to disable)\u001b[0m\n",
      "\u001b[31mINFO:root:Epoch[0] Batch [49]#011Speed: 4554.926035 samples/sec#011accuracy=0.102344, top_k_accuracy_5=0.490625\u001b[0m\n",
      "\u001b[31mINFO:root:Epoch[0] Batch [99]#011Speed: 4940.514710 samples/sec#011accuracy=0.098750, top_k_accuracy_5=0.498984\u001b[0m\n",
      "\u001b[31mINFO:root:Epoch[0] Batch [149]#011Speed: 4148.540414 samples/sec#011accuracy=0.099062, top_k_accuracy_5=0.501198\u001b[0m\n",
      "\u001b[31mINFO:root:Epoch[0] Batch [199]#011Speed: 4895.553841 samples/sec#011accuracy=0.100195, top_k_accuracy_5=0.500078\u001b[0m\n",
      "\u001b[31mINFO:root:Epoch[0] Batch [249]#011Speed: 4279.526763 samples/sec#011accuracy=0.099312, top_k_accuracy_5=0.499063\u001b[0m\n",
      "\u001b[31mINFO:root:Epoch[0] Batch [299]#011Speed: 4539.904208 samples/sec#011accuracy=0.099583, top_k_accuracy_5=0.498646\u001b[0m\n",
      "\u001b[31mINFO:root:Epoch[0] Batch [349]#011Speed: 4671.408042 samples/sec#011accuracy=0.099129, top_k_accuracy_5=0.498638\u001b[0m\n",
      "\u001b[31mINFO:root:[Epoch 0] training: accuracy=0.099704, top_k_accuracy_5=0.500060\u001b[0m\n",
      "\u001b[31mINFO:root:[Epoch 0] time cost: 12.318105\u001b[0m\n",
      "\u001b[31mINFO:root:[Epoch 0] validation: accuracy=0.099486, top_k_accuracy_5=0.500198\u001b[0m\n",
      "\u001b[31mINFO:root:[Epoch 0] Saving checkpoint to vgg11_best.params with Accuracy: 0.0995\u001b[0m\n",
      "\u001b[31m2019-06-03 16:39:01,053 sagemaker-containers INFO     Reporting training SUCCESS\u001b[0m\n",
      "\n",
      "2019-06-03 16:39:09 Uploading - Uploading generated training model\n",
      "2019-06-03 16:39:09 Completed - Training job completed\n",
      "Billable seconds: 105\n"
     ]
    }
   ],
   "source": [
    "from sagemaker.mxnet import MXNet\n",
    "\n",
    "output_path = 's3://{0}/{1}/output'.format(bucket_name, bucket_key_prefix)\n",
    "code_location = 's3://{0}/{1}/code'.format(bucket_name, bucket_key_prefix)\n",
    "\n",
    "m = MXNet('image_classification.py',\n",
    "          role=role,\n",
    "          source_dir='sources/',\n",
    "          train_instance_count=2,\n",
    "          train_instance_type='ml.p3.8xlarge',\n",
    "          output_path=output_path,\n",
    "          base_job_name='imgclass-mxnet',\n",
    "          framework_version='1.3.0',\n",
    "          code_location = code_location,\n",
    "          py_version='py3',\n",
    "          distributions={'parameter_server': {'enabled': True}},\n",
    "          hyperparameters={'batch-size': 32,\n",
    "                           'epochs': 1,\n",
    "                           'lr': 0.1,\n",
    "                           'model': 'vgg11',\n",
    "                           'kvstore': 'dist_sync_device',\n",
    "                           'dataset': 'cifar10'})\n",
    "\n",
    "m.fit()"
   ]
  }
 ],
 "metadata": {
  "kernelspec": {
   "display_name": "conda_python3",
   "language": "python",
   "name": "conda_python3"
  },
  "language_info": {
   "codemirror_mode": {
    "name": "ipython",
    "version": 3
   },
   "file_extension": ".py",
   "mimetype": "text/x-python",
   "name": "python",
   "nbconvert_exporter": "python",
   "pygments_lexer": "ipython3",
   "version": "3.6.5"
  }
 },
 "nbformat": 4,
 "nbformat_minor": 2
}
